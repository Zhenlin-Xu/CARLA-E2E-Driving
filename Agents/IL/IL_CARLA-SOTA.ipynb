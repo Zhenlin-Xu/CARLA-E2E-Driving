{
 "cells": [
  {
   "cell_type": "markdown",
   "id": "9c8aed63-cc1a-46e1-981c-5b2fff67c362",
   "metadata": {},
   "source": [
    "## Imitation learning for CARLA Autonomous Vehicles"
   ]
  },
  {
   "cell_type": "code",
   "execution_count": 1,
   "id": "23c71ffa-5a67-4617-b3f6-fa04ecc0225f",
   "metadata": {},
   "outputs": [],
   "source": [
    "# imports\n",
    "import os\n",
    "import h5py\n",
    "import time\n",
    "import yaml\n",
    "import random\n",
    "import datetime\n",
    "import pprint\n",
    "import matplotlib.pyplot as plt\n",
    "%matplotlib inline\n",
    "\n",
    "import numpy as np\n",
    "import torch\n",
    "import torch.nn as nn\n",
    "from torch.utils.tensorboard import SummaryWriter\n",
    "from torchvision import transforms\n"
   ]
  },
  {
   "cell_type": "code",
   "execution_count": 2,
   "id": "75a3ef62-19a6-4730-8ce8-720533107a49",
   "metadata": {},
   "outputs": [],
   "source": [
    "# seeds\n",
    "seed = 1\n",
    "torch.manual_seed(seed)\n",
    "np.random.seed(seed)\n",
    "random.seed(seed)\n"
   ]
  },
  {
   "cell_type": "code",
   "execution_count": 5,
   "id": "7e736e62-4aff-4e92-9f69-b414bf99940e",
   "metadata": {},
   "outputs": [],
   "source": [
    "# tensorboard init\n",
    "date_str = datetime.datetime.now().strftime('%Y%m%d_%H%M')\n",
    "writer = SummaryWriter(log_dir=\"./Agents/IL/Logs/\"+date_str)\n"
   ]
  },
  {
   "cell_type": "code",
   "execution_count": 6,
   "id": "a5694428-2fbc-451b-bb08-3257c46fa4e6",
   "metadata": {},
   "outputs": [],
   "source": [
    "# timer init\n",
    "begin = time.time()"
   ]
  },
  {
   "cell_type": "markdown",
   "id": "2ce9f362-3ac1-42bf-9d08-32e89979956d",
   "metadata": {},
   "source": [
    "### Network Architecture"
   ]
  },
  {
   "cell_type": "code",
   "execution_count": 5,
   "id": "7085dc3f-eaa2-48d7-aaad-cb03fbc32ade",
   "metadata": {
    "tags": []
   },
   "outputs": [],
   "source": [
    "# network architecture\n",
    "class Network(nn.Module):\n",
    "    \n",
    "    def __init__(self):\n",
    "        super(Network, self).__init__()\n",
    "        \n",
    "        self.conv1 = nn.Sequential(\n",
    "            nn.Conv2d(in_channels=3, out_channels=32, kernel_size=5, stride=2, padding=0),\n",
    "            nn.BatchNorm2d(num_features=32),\n",
    "            nn.Dropout2d(),\n",
    "            nn.ReLU(),)\n",
    "        self.conv2 = nn.Sequential(\n",
    "            nn.Conv2d(in_channels=32, out_channels=32, kernel_size=3, stride=1, padding=0),\n",
    "            nn.BatchNorm2d(num_features=32),\n",
    "            nn.Dropout2d(),\n",
    "            nn.ReLU(),)\n",
    "        self.conv3 = nn.Sequential(\n",
    "            nn.Conv2d(in_channels=32, out_channels=64, kernel_size=3, stride=2, padding=0),\n",
    "            nn.BatchNorm2d(num_features=64),\n",
    "            nn.Dropout2d(),\n",
    "            nn.ReLU(),)\n",
    "        self.conv4 = nn.Sequential(\n",
    "            nn.Conv2d(in_channels=64, out_channels=64, kernel_size=3, stride=1, padding=0),\n",
    "            nn.BatchNorm2d(num_features=64),\n",
    "            nn.Dropout2d(),\n",
    "            nn.ReLU(),)\n",
    "        self.conv5 = nn.Sequential(\n",
    "            nn.Conv2d(in_channels=64, out_channels=128, kernel_size=3, stride=2, padding=0),\n",
    "            nn.BatchNorm2d(num_features=128),\n",
    "            nn.Dropout2d(),\n",
    "            nn.ReLU(),)\n",
    "        self.conv6 = nn.Sequential(\n",
    "            nn.Conv2d(in_channels=128, out_channels=128, kernel_size=3, stride=1, padding=0),\n",
    "            nn.BatchNorm2d(num_features=128),\n",
    "            nn.Dropout2d(),\n",
    "            nn.ReLU(),)\n",
    "        self.conv7 = nn.Sequential(\n",
    "            nn.Conv2d(in_channels=128, out_channels=256, kernel_size=3, stride=1, padding=0),\n",
    "            nn.BatchNorm2d(num_features=256),\n",
    "            nn.Dropout2d(),\n",
    "            nn.ReLU(),)\n",
    "        self.conv8 = nn.Sequential(\n",
    "            nn.Conv2d(in_channels=256, out_channels=256, kernel_size=3, stride=1, padding=0),\n",
    "            nn.BatchNorm2d(num_features=256),\n",
    "            nn.Dropout2d(),\n",
    "            nn.ReLU(),)\n",
    "        self.flatten = nn.Flatten()\n",
    "        self.dense1 = nn.Sequential(\n",
    "            nn.Linear(in_features=8192, out_features=512),\n",
    "            nn.ReLU())\n",
    "        self.dense2 = nn.Sequential(\n",
    "            nn.Linear(in_features=512, out_features=512),\n",
    "            nn.ReLU())\n",
    "        self.output = nn.Linear(512, 2)\n",
    "\n",
    "    def forward(self, x):\n",
    "        x = self.conv1(x)\n",
    "        x = self.conv2(x)\n",
    "        x = self.conv3(x)\n",
    "        x = self.conv4(x)\n",
    "        x = self.conv5(x)\n",
    "        x = self.conv6(x)\n",
    "        x = self.conv7(x)\n",
    "        x = self.conv8(x)\n",
    "        x = self.flatten(x)\n",
    "        x = self.dense1(x)\n",
    "        x = self.dense2(x) \n",
    "        x = self.output(x)\n",
    "        return x"
   ]
  },
  {
   "cell_type": "code",
   "execution_count": 6,
   "id": "57099f91-113a-433e-b88a-963cbb66899e",
   "metadata": {},
   "outputs": [],
   "source": [
    "# model init\n",
    "model = Network().cuda()"
   ]
  },
  {
   "cell_type": "code",
   "execution_count": 7,
   "id": "a2f4cac7-feeb-445a-845b-d9cebabde6e3",
   "metadata": {},
   "outputs": [],
   "source": [
    "# optimizer and criterion init\n",
    "optimizer = torch.optim.Adam(model.parameters(),lr=0.0001)\n",
    "criterion = nn.MSELoss()"
   ]
  },
  {
   "cell_type": "markdown",
   "id": "80347091-52a4-4d82-9597-59b6440befd8",
   "metadata": {},
   "source": [
    "### Dataset Preparation"
   ]
  },
  {
   "cell_type": "code",
   "execution_count": 4,
   "id": "a04f157b-df49-4ce1-9382-826c7ec58316",
   "metadata": {},
   "outputs": [
    {
     "name": "stdout",
     "output_type": "stream",
     "text": [
      "# train h5: 3289\n",
      "# test  h5: 374\n"
     ]
    }
   ],
   "source": [
    "# train_path = os.path.join(os.getcwd(), 'CORL2017ImitationLearningData/AgentHuman/SeqTrain')\n",
    "# test_path  = os.path.join(os.getcwd(), \n",
    "# 'CORL2017ImitationLearningData/AgentHuman/SeqVal')\n",
    "train_path = \"/home/gav/Documents/CORL2017ImitationLearningData/AgentHuman/SeqTrain\"\n",
    "test_path = \"/home/gav/Documents/CORL2017ImitationLearningData/AgentHuman/SeqVal\"\n",
    "\n",
    "train_dataset_ls = os.listdir(path=train_path) # 3288\n",
    "num_train_dataset = len(train_dataset_ls)\n",
    "test_dataset_ls = os.listdir(path=test_path)   # 374\n",
    "num_test_dataset = len(test_dataset_ls)\n",
    "\n",
    "print('# train h5:', num_train_dataset)\n",
    "print('# test  h5:', num_test_dataset)"
   ]
  },
  {
   "cell_type": "markdown",
   "id": "00e3f92c-8bd8-4b47-827a-bd3db61499ef",
   "metadata": {},
   "source": [
    "### Parameter setup"
   ]
  },
  {
   "cell_type": "code",
   "execution_count": 7,
   "id": "18c1a86f-b7dd-4312-a05b-553b8a4318c7",
   "metadata": {},
   "outputs": [],
   "source": [
    "num_epoch = 200\n",
    "batch_size = 200"
   ]
  },
  {
   "cell_type": "markdown",
   "id": "a7134d12-cff9-49cb-a0da-9969cbdab37f",
   "metadata": {},
   "source": [
    "### Training and validation loop"
   ]
  },
  {
   "cell_type": "code",
   "execution_count": 8,
   "id": "3a7c1a2a-bf72-4397-9799-df15bd831a4a",
   "metadata": {},
   "outputs": [
    {
     "ename": "SyntaxError",
     "evalue": "invalid syntax (2102509140.py, line 31)",
     "output_type": "error",
     "traceback": [
      "\u001b[0;36m  File \u001b[0;32m\"/tmp/ipykernel_7258/2102509140.py\"\u001b[0;36m, line \u001b[0;32m31\u001b[0m\n\u001b[0;31m    writer.add_scalar('MSE_loss/train', train_loss/ , epoch)\u001b[0m\n\u001b[0m                                                    ^\u001b[0m\n\u001b[0;31mSyntaxError\u001b[0m\u001b[0;31m:\u001b[0m invalid syntax\n"
     ]
    }
   ],
   "source": [
    "for epoch in range(num_epoch):\n",
    "    # print(\"Epoch:%4d\"  % epoch)\n",
    "    train_loss = 0\n",
    "    test_loss = 0\n",
    "    best_loss = 1\n",
    "    \n",
    "    # training \n",
    "    for file_idx in range(num_train_dataset): #num_file):\n",
    "        # a file as a batch\n",
    "        filename = os.path.join(train_path, train_dataset_ls[file_idx])\n",
    "        f = h5py.File(filename, 'r')\n",
    "        # print(list(f.keys()))\n",
    "        img = torch.Tensor(np.array(f['rgb'])).permute(0,3,2,1).cuda()\n",
    "        tar = torch.Tensor(np.array(f['targets'])).cuda()\n",
    "        \n",
    "        steer, throttle, brake = tar[:,0].unsqueeze(1), tar[:,1].unsqueeze(1), tar[:,2].unsqueeze(1)\n",
    "        ctl = torch.hstack((steer, throttle-brake))\n",
    "\n",
    "        f.close()\n",
    "        \n",
    "        model.train(True)\n",
    "        optimizer.zero_grad()       # zero the parameter gradients\n",
    "        out = model(img)\n",
    "        loss = criterion(out, ctl)  # compute the loss \n",
    "        loss.backward()             # backpropagate the loss\n",
    "        optimizer.step()            # adjust parameters based on the calculated gradients\n",
    "        train_loss += loss.item() \n",
    "        # if file_idx % 100 == 0:\n",
    "            # print(f'Epoch: {epoch:2d} [{file_idx:4d} {num_train_dataset:4d}] loss={loss.item():.5f}')\n",
    "        \n",
    "    writer.add_scalar('MSE_loss/train', train_loss/num_train_dataset, epoch)\n",
    "    if best_loss > train_loss/num_train_dataset:\n",
    "        torch.save(model.state_dict(), \"./model/model_weights_\"+date_str+'.pth')\n",
    "        torch.save(model, \"./model/model_\"+date_str+'.pth')\n",
    "        best_loss = train_loss/num_train_dataset\n",
    "        \n",
    "    # testing\n",
    "    for file_idx in range(num_test_dataset): #num_file):\n",
    "        # a file as a batch\n",
    "        filename = os.path.join(train_path, train_dataset_ls[file_idx])\n",
    "        # print(filename)\n",
    "        f = h5py.File(filename, 'r')\n",
    "        # print(list(f.keys()))\n",
    "        img = torch.Tensor(np.array(f['rgb'])).permute(0,3,2,1).cuda()\n",
    "        tar = torch.Tensor(np.array(f['targets'])).cuda()\n",
    "        \n",
    "        f.close()\n",
    "        \n",
    "        steer, throttle, brake = tar[:,0].unsqueeze(1), tar[:,1].unsqueeze(1), tar[:,2].unsqueeze(1)\n",
    "        ctl = torch.hstack((steer, throttle-brake))\n",
    "        model.train(False)\n",
    "        model.eval()\n",
    "        out = model(img)\n",
    "        loss = criterion(out, ctl)\n",
    "        test_loss += loss.item()\n",
    "        # if file_idx % 200 == 0:\n",
    "            # print(f'Epoch: {epoch:2d} [{file_idx:4d} {num_test_dataset:4d}] loss={loss.item():.5f}')\n",
    "        \n",
    "    writer.add_scalar('MSE_loss/test', test_loss/num_test_dataset, epoch)\n",
    "    writer.add_scalars('MSE_loss', {'train_loss':  train_loss/num_train_dataset, \n",
    "                                    'test_loss' :  test_loss /num_test_dataset   }\n",
    "                      ,epoch)\n",
    "    \n",
    "    print(f\"Epoch: {epoch:2d} Loss/train: {train_loss/num_train_dataset} Loss/test: {test_loss/num_test_dataset}\")"
   ]
  },
  {
   "cell_type": "code",
   "execution_count": 11,
   "id": "e11e76e4-c38f-474c-8ce3-40eab1308879",
   "metadata": {},
   "outputs": [
    {
     "name": "stdout",
     "output_type": "stream",
     "text": [
      "Goodbye Sir! 23510.922435760498\n"
     ]
    }
   ],
   "source": [
    "end = time.time()\n",
    "print(\"Goodbye Sir!\", end - begin)"
   ]
  },
  {
   "cell_type": "code",
   "execution_count": null,
   "id": "2582b3ce-6369-4175-aa1d-c3ab6901d7a9",
   "metadata": {},
   "outputs": [],
   "source": []
  }
 ],
 "metadata": {
  "kernelspec": {
   "display_name": "Python 3 (ipykernel)",
   "language": "python",
   "name": "python3"
  },
  "language_info": {
   "codemirror_mode": {
    "name": "ipython",
    "version": 3
   },
   "file_extension": ".py",
   "mimetype": "text/x-python",
   "name": "python",
   "nbconvert_exporter": "python",
   "pygments_lexer": "ipython3",
   "version": "3.7.11"
  }
 },
 "nbformat": 4,
 "nbformat_minor": 5
}
